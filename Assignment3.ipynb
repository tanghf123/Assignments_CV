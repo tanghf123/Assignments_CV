{
 "cells": [
  {
   "cell_type": "code",
   "execution_count": 1,
   "metadata": {},
   "outputs": [],
   "source": [
    "import cv2\n",
    "import random\n",
    "import numpy as np\n",
    "from matplotlib import pyplot as plt"
   ]
  },
  {
   "cell_type": "code",
   "execution_count": 3,
   "metadata": {},
   "outputs": [],
   "source": [
    "img = cv2.imread('face.jpg')"
   ]
  },
  {
   "cell_type": "code",
   "execution_count": 4,
   "metadata": {
    "scrolled": true
   },
   "outputs": [
    {
     "name": "stdout",
     "output_type": "stream",
     "text": [
      "[[[22 30 47]\n",
      "  [20 30 47]\n",
      "  [20 30 47]\n",
      "  ...\n",
      "  [ 3  5  6]\n",
      "  [ 2  4  5]\n",
      "  [ 2  4  5]]\n",
      "\n",
      " [[22 32 49]\n",
      "  [22 32 49]\n",
      "  [22 32 49]\n",
      "  ...\n",
      "  [ 3  5  6]\n",
      "  [ 2  4  5]\n",
      "  [ 2  4  5]]\n",
      "\n",
      " [[24 34 51]\n",
      "  [24 34 51]\n",
      "  [25 35 52]\n",
      "  ...\n",
      "  [ 3  5  6]\n",
      "  [ 3  5  6]\n",
      "  [ 2  4  5]]\n",
      "\n",
      " ...\n",
      "\n",
      " [[ 1  1  1]\n",
      "  [ 1  1  1]\n",
      "  [ 1  1  1]\n",
      "  ...\n",
      "  [ 1  1  1]\n",
      "  [ 1  1  1]\n",
      "  [ 1  1  1]]\n",
      "\n",
      " [[ 1  1  1]\n",
      "  [ 1  1  1]\n",
      "  [ 1  1  1]\n",
      "  ...\n",
      "  [ 1  1  1]\n",
      "  [ 1  1  1]\n",
      "  [ 1  1  1]]\n",
      "\n",
      " [[ 1  1  1]\n",
      "  [ 1  1  1]\n",
      "  [ 1  1  1]\n",
      "  ...\n",
      "  [ 1  1  1]\n",
      "  [ 1  1  1]\n",
      "  [ 1  1  1]]]\n"
     ]
    }
   ],
   "source": [
    "print (img)"
   ]
  },
  {
   "cell_type": "code",
   "execution_count": 5,
   "metadata": {},
   "outputs": [],
   "source": [
    "cv2.imshow('face',img)\n",
    "key = cv2.waitKey()\n",
    "if key == 27:\n",
    "    cv2.destroyAllWindows()"
   ]
  },
  {
   "cell_type": "code",
   "execution_count": 21,
   "metadata": {},
   "outputs": [],
   "source": [
    "# image crope\n",
    "img_crop = img [100:200,30:250]"
   ]
  },
  {
   "cell_type": "code",
   "execution_count": 22,
   "metadata": {},
   "outputs": [],
   "source": [
    "cv2.imshow('face',img_crop)\n",
    "key = cv2.waitKey()\n",
    "if key == 27:\n",
    "    cv2.destroyAllWindows()"
   ]
  },
  {
   "cell_type": "code",
   "execution_count": 23,
   "metadata": {},
   "outputs": [
    {
     "name": "stdout",
     "output_type": "stream",
     "text": [
      "[[[  0   2   6]\n",
      "  [ 10  12  13]\n",
      "  [  2  10  17]\n",
      "  ...\n",
      "  [ 19  34  50]\n",
      "  [ 17  32  48]\n",
      "  [ 15  30  46]]\n",
      "\n",
      " [[  0   3   7]\n",
      "  [  5   7   8]\n",
      "  [  1  10  14]\n",
      "  ...\n",
      "  [ 19  34  50]\n",
      "  [ 17  32  48]\n",
      "  [ 16  31  47]]\n",
      "\n",
      " [[  2   5   9]\n",
      "  [  3   5   6]\n",
      "  [  2   8  13]\n",
      "  ...\n",
      "  [ 20  35  51]\n",
      "  [ 18  33  49]\n",
      "  [ 16  31  47]]\n",
      "\n",
      " ...\n",
      "\n",
      " [[ 82 111 142]\n",
      "  [ 82 113 146]\n",
      "  [ 92 120 154]\n",
      "  ...\n",
      "  [ 16  31  47]\n",
      "  [ 14  29  45]\n",
      "  [ 13  28  44]]\n",
      "\n",
      " [[ 83 113 142]\n",
      "  [ 85 115 144]\n",
      "  [ 90 118 153]\n",
      "  ...\n",
      "  [ 16  31  47]\n",
      "  [ 14  29  45]\n",
      "  [ 12  27  43]]\n",
      "\n",
      " [[ 84 113 140]\n",
      "  [ 86 115 142]\n",
      "  [ 87 115 150]\n",
      "  ...\n",
      "  [ 15  30  46]\n",
      "  [ 14  29  45]\n",
      "  [ 12  27  43]]]\n"
     ]
    }
   ],
   "source": [
    "print(img_crop)"
   ]
  },
  {
   "cell_type": "code",
   "execution_count": 24,
   "metadata": {},
   "outputs": [],
   "source": [
    "#image color\n",
    "B , G , R = cv2.split(img)"
   ]
  },
  {
   "cell_type": "code",
   "execution_count": 27,
   "metadata": {},
   "outputs": [
    {
     "name": "stdout",
     "output_type": "stream",
     "text": [
      "[[22 20 20 ...  3  2  2]\n",
      " [22 22 22 ...  3  2  2]\n",
      " [24 24 25 ...  3  3  2]\n",
      " ...\n",
      " [ 1  1  1 ...  1  1  1]\n",
      " [ 1  1  1 ...  1  1  1]\n",
      " [ 1  1  1 ...  1  1  1]] [[30 30 30 ...  5  4  4]\n",
      " [32 32 32 ...  5  4  4]\n",
      " [34 34 35 ...  5  5  4]\n",
      " ...\n",
      " [ 1  1  1 ...  1  1  1]\n",
      " [ 1  1  1 ...  1  1  1]\n",
      " [ 1  1  1 ...  1  1  1]] [[47 47 47 ...  6  5  5]\n",
      " [49 49 49 ...  6  5  5]\n",
      " [51 51 52 ...  6  6  5]\n",
      " ...\n",
      " [ 1  1  1 ...  1  1  1]\n",
      " [ 1  1  1 ...  1  1  1]\n",
      " [ 1  1  1 ...  1  1  1]]\n"
     ]
    }
   ],
   "source": [
    "print( B , G , R )"
   ]
  },
  {
   "cell_type": "code",
   "execution_count": null,
   "metadata": {},
   "outputs": [],
   "source": [
    "def random_light_color(img):\n",
    "    # birghtness\n",
    "    B , G ,R = cv2.split(img)\n",
    "    \n",
    "    # change  B channel\n",
    "    b_rand = random.randint(-50, 50)\n",
    "    if b_rand == 0:\n",
    "        pass\n",
    "    elif b_rand > 0:\n",
    "        lim = 255 - b_rand\n",
    "        B[B > lim] =255\n",
    "        B[B <= lim] = (b_rand + B[B <= lim]).astype(img.dtype) #astype\n",
    "    elif b_rand < 0:\n",
    "        lim = 0 - b_rand\n",
    "        B[B >= lim] = (b_rand + B[B >= lim]).astype(img.dtype)\n",
    "    \n",
    "    # change G channel \n",
    "    g_rand = random.randint(-50, 50)\n",
    "    if g_rand == 0:\n",
    "        pass\n",
    "    elif g_rand > 0:\n",
    "        lim = 255 - g_rand\n",
    "        G[G > lim] =255\n",
    "        G[G <= lim] = (g_rand + G[G <= lim]).astype(img.dtype) #astype\n",
    "    elif g_rand < 0:\n",
    "        lim = 0 - g_rand\n",
    "        G[G >= lim] = (g_rand + G[G >= lim]).astype(img.dtype)\n",
    "        \n",
    "       # change R channel \n",
    "    r_rand = random.randint(-50, 50)\n",
    "    if r_rand == 0:\n",
    "        pass\n",
    "    elif r_rand > 0:\n",
    "        lim = 255 - r_rand\n",
    "        R[R > lim] =255\n",
    "        R[R <= lim] = (r_rand + R[R <= lim]).astype(img.dtype) #astype\n",
    "    elif r_rand < 0:\n",
    "        lim = 0 - r_rand\n",
    "        R[R >= lim] = (r_rand + R[R >= lim]).astype(img.dtype)\n",
    "        \n",
    "        img_merge = cv2.merge((B, G, R)) #merge 合并图像\n",
    "        return img_merge\n",
    "        "
   ]
  }
 ],
 "metadata": {
  "kernelspec": {
   "display_name": "Python 3",
   "language": "python",
   "name": "python3"
  },
  "language_info": {
   "codemirror_mode": {
    "name": "ipython",
    "version": 3
   },
   "file_extension": ".py",
   "mimetype": "text/x-python",
   "name": "python",
   "nbconvert_exporter": "python",
   "pygments_lexer": "ipython3",
   "version": "3.7.2"
  }
 },
 "nbformat": 4,
 "nbformat_minor": 2
}
